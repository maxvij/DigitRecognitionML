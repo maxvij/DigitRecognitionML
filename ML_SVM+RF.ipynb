{
 "cells": [
  {
   "cell_type": "code",
   "execution_count": 14,
   "metadata": {},
   "outputs": [],
   "source": [
    "from sklearn.ensemble import RandomForestClassifier\n",
    "import numpy as np\n",
    "import pandas as pd\n",
    "from scipy.ndimage import interpolation\n",
    "from sklearn.decomposition import PCA\n",
    "from sklearn.preprocessing import normalize\n",
    "from sklearn.model_selection import train_test_split \n",
    "from sklearn.model_selection import KFold\n",
    "import matplotlib.pyplot as plt\n",
    "from sklearn import svm\n",
    "from sklearn.metrics import accuracy_score\n"
   ]
  },
  {
   "cell_type": "markdown",
   "metadata": {},
   "source": [
    "## SVM Preprocessing\n",
    "\n",
    "As found in the SVM file"
   ]
  },
  {
   "cell_type": "code",
   "execution_count": 2,
   "metadata": {},
   "outputs": [],
   "source": [
    "X = np.loadtxt('data.txt', skiprows=0)\n",
    "X = normalize(X)\n",
    "# possible digits\n",
    "digits = np.array([0,1,2,3,4,5,6,7,8,9])\n",
    "y = np.repeat(digits, 200, axis=0)\n"
   ]
  },
  {
   "cell_type": "markdown",
   "metadata": {},
   "source": [
    "## Random Forest Preprocessing\n",
    "\n",
    "As found in the file regarding Random Forests."
   ]
  },
  {
   "cell_type": "code",
   "execution_count": 3,
   "metadata": {},
   "outputs": [],
   "source": [
    "#create features' names\n",
    "numbers = np.arange(1, 241)\n",
    "features = list(str(' ') * 240)\n",
    "\n",
    "for i in range (len(numbers)):\n",
    "    features[i] = \"f\" + str(numbers[i])\n",
    "\n",
    "#load the data in - should be 2000*240\n",
    "digitPics = pd.read_csv(\"data.txt\", sep = \"\\s+\", header = None, names = features)\n",
    "\n",
    "# create target vector by repeating digits 200 times\n",
    "digitLabels = np.repeat(np.array([0,1,2,3,4,5,6,7,8,9]), 200, axis=0)\n",
    "\n",
    "y2=digitLabels\n",
    "\n",
    "\n",
    "def moments(image):\n",
    "    c0,c1 = np.mgrid[:image.shape[0],:image.shape[1]] # A trick in numPy to create a mesh grid\n",
    "    totalImage = np.sum(image) #sum of pixels\n",
    "    m0 = np.sum(c0*image)/totalImage #mu_x\n",
    "    m1 = np.sum(c1*image)/totalImage #mu_y\n",
    "    m00 = np.sum((c0-m0)**2*image)/totalImage #var(x)\n",
    "    m11 = np.sum((c1-m1)**2*image)/totalImage #var(y)\n",
    "    m01 = np.sum((c0-m0)*(c1-m1)*image)/totalImage #covariance(x,y)\n",
    "    mu_vector = np.array([m0,m1]) # Notice that these are \\mu_x, \\mu_y respectively\n",
    "    covariance_matrix = np.array([[m00,m01],[m01,m11]]) # Do you see a similarity between the covariance matrix\n",
    "    return mu_vector, covariance_matrix\n",
    "\n",
    "def deskew(image):\n",
    "    c,v = moments(image)\n",
    "    alpha = v[0,1]/v[0,0]\n",
    "    affine = np.array([[1,0],[alpha,1]])\n",
    "    ocenter = np.array(image.shape)/2.0\n",
    "    offset = c-np.dot(affine,ocenter)\n",
    "    return interpolation.affine_transform(image,affine,offset=offset)\n",
    "\n",
    "digitsDeskew = digitPics\n",
    "for numbers in range (digitsDeskew.shape[0]):\n",
    "    digitsDeskew.iloc[numbers] = deskew(np.asarray(digitPics.iloc[numbers]).reshape(16,15)).reshape(1,240)\n",
    "\n",
    "digitPicsNorm = normalize(digitsDeskew)\n",
    "\n",
    "    \n",
    "postPCAPics = digitPicsNorm\n",
    "\n",
    "pca = PCA(random_state=0)\n",
    "pca.fit(postPCAPics)\n",
    "\n",
    "topFeatures = pca.transform(postPCAPics)[:, :100]\n",
    "#create features' names\n",
    "PCANumbers = np.arange(1, 101)\n",
    "PCAFeatures = list(str(' ') * 100)\n",
    "\n",
    "for i in range (len(PCANumbers)):\n",
    "    PCAFeatures[i] = \"pc\" + str(PCANumbers[i])\n",
    "    \n",
    "X2 = pd.DataFrame(topFeatures, columns = PCAFeatures)"
   ]
  },
  {
   "cell_type": "markdown",
   "metadata": {},
   "source": [
    "## Functions for the Digitwise Acc and Combined Predictor\n",
    "\n",
    "As also found in the file for SVM"
   ]
  },
  {
   "cell_type": "code",
   "execution_count": 4,
   "metadata": {},
   "outputs": [],
   "source": [
    "def digitwise_accuracy(pred_y, test_y):\n",
    "    prederrorstuff = []\n",
    "    for i in range(10):\n",
    "        curr_acc = []\n",
    "        for j in range(len(pred_y)):\n",
    "            if pred_y[j] == i:\n",
    "                if pred_y[j] == test_y[j]:\n",
    "                    curr_acc.append(1)\n",
    "                else:\n",
    "                    curr_acc.append(0)\n",
    "        prederrorstuff.append(np.mean(curr_acc))\n",
    "\n",
    "    return prederrorstuff"
   ]
  },
  {
   "cell_type": "code",
   "execution_count": 5,
   "metadata": {},
   "outputs": [],
   "source": [
    "def combined_predictor(predictions, pred_accuracies):\n",
    "    combined_predictions = []\n",
    "    combined_pred_choice = []\n",
    "    for i in range(len(predictions[0])):\n",
    "        curr_pred = 0\n",
    "        curr_acc = 0\n",
    "        curr_mod = 0\n",
    "        \n",
    "        for j in range(len(pred_accuracies)):\n",
    "            new_pred = predictions[j][i]\n",
    "            new_acc = pred_accuracies[j][new_pred]\n",
    "            if new_acc > curr_acc:\n",
    "                curr_pred = new_pred\n",
    "                curr_acc = new_acc\n",
    "                curr_mod = j\n",
    "                \n",
    "        combined_predictions.append(curr_pred)\n",
    "        combined_pred_choice.append(curr_mod)\n",
    "        \n",
    "    return combined_predictions"
   ]
  },
  {
   "cell_type": "markdown",
   "metadata": {},
   "source": [
    "## Combined Predictor SVM + RF\n",
    "\n",
    "Both predictors are using input data as formatted in their original works. The Cross Validation procedure works as explained in the file on SVM with identical sizes for training, validation and test set.\n",
    "\n",
    "The plot and accuracies show that the combined predictor is worse than the SVM. This is probably caused by the Random Forest having an on-average worse performance than the SVM on predicting all of the digits, rendering the theoretical advantage of the combined predictor mute. Interestingly, looking at the individual plots of both SVM and RF shows that both of them trendwise score relatively worse on the same digits. This might indicate that the error might not be characteristic of the model itself, but of the noise in the data."
   ]
  },
  {
   "cell_type": "code",
   "execution_count": 19,
   "metadata": {},
   "outputs": [
    {
     "name": "stdout",
     "output_type": "stream",
     "text": [
      "Mean k-Fold accuracy using Combined Kernel: 0.9705\n",
      "Mean k-Fold accuracy using SVM: 0.9765\n",
      "Mean k-Fold accuracy using Random Forest: 0.951\n"
     ]
    },
    {
     "data": {
      "text/plain": [
       "<matplotlib.legend.Legend at 0x2b80b451d48>"
      ]
     },
     "execution_count": 19,
     "metadata": {},
     "output_type": "execute_result"
    },
    {
     "data": {
      "image/png": "[encoded data removed]",
      "text/plain": [
       "<Figure size 432x288 with 1 Axes>"
      ]
     },
     "metadata": {
      "needs_background": "light"
     },
     "output_type": "display_data"
    }
   ],
   "source": [
    "# Lists to hold accuracy tables for kernels\n",
    "kf_acc_comb = []\n",
    "kf_acc_poly = []\n",
    "kf_acc_rf = []\n",
    "\n",
    "# List to hold digitwise accuracies\n",
    "dw_acc_comb = []\n",
    "dw_acc_poly = []\n",
    "dw_acc_rf = []\n",
    "\n",
    "# kFold based on example in https://scikit-learn.org/stable/modules/generated/sklearn.model_selection.KFold.html\n",
    "kf = KFold(n_splits=10, shuffle=True, random_state=1001)\n",
    "for train_index, test_index in kf.split(X):\n",
    "    X_train, X_test = X[train_index], X[test_index]\n",
    "    y_train, y_test = y[train_index], y[test_index]\n",
    "    \n",
    "    X2_train, X2_test = X2.iloc[train_index,:], X2.iloc[test_index,:]\n",
    "    y2_train, y2_test = y2[train_index], y2[test_index]\n",
    "    \n",
    "    # Separate training into train and validation set.\n",
    "    X_train, X_val, y_train, y_val = train_test_split(X_train, y_train, test_size=0.5, random_state = 101010)\n",
    "    X2_train, X2_val, y2_train, y2_val = train_test_split(X2_train, y2_train, test_size=0.5, random_state = 101010)\n",
    "    \n",
    "    # Polynomial Kernel\n",
    "    svc_poly= svm.SVC(kernel=\"poly\", degree=3, decision_function_shape=\"ovo\")\n",
    "    # RBF Kernel\n",
    "    rf = RandomForestClassifier(n_estimators = 110, min_samples_split = 16, \n",
    "                               min_samples_leaf = 11, max_depth = 5, criterion = 'gini', bootstrap = True)\n",
    "    \n",
    "    # Fitting Process\n",
    "    svc_poly.fit(X_train, y_train)\n",
    "    rf.fit(X2_train, y2_train)\n",
    "    \n",
    "    # Validation Process\n",
    "    y_val_pred_poly = svc_poly.predict(X_val)\n",
    "    y_val_pred_rf = rf.predict(X2_val)\n",
    "    \n",
    "    # Testing\n",
    "    y_pred_poly = svc_poly.predict(X_test)\n",
    "    y_pred_rf = rf.predict(X2_test)\n",
    "    y_pred_comb = combined_predictor([list(y_pred_poly), list(y_pred_rf)], [digitwise_accuracy(y_val_pred_poly, y_val), digitwise_accuracy(list(y_val_pred_rf), list(y2_val))])\n",
    "    \n",
    "    # Append Accuracies to List\n",
    "    kf_acc_comb.append(accuracy_score(y_test, y_pred_comb))\n",
    "    kf_acc_poly.append(accuracy_score(y_test, y_pred_poly))\n",
    "    kf_acc_rf.append(accuracy_score(y2_test, y_pred_rf))\n",
    "    \n",
    "    # Append Digitwise accuracies\n",
    "    dw_acc_comb.append(digitwise_accuracy(y_pred_comb, y_test))\n",
    "    dw_acc_poly.append(digitwise_accuracy(y_pred_poly, y_test))\n",
    "    dw_acc_rf.append(digitwise_accuracy(list(y_pred_rf), list(y2_test)))\n",
    "    \n",
    "print(\"Mean k-Fold accuracy using Combined Kernel: \" + str(np.mean(kf_acc_comb)))\n",
    "print(\"Mean k-Fold accuracy using SVM: \" + str(np.mean(kf_acc_poly)))\n",
    "print(\"Mean k-Fold accuracy using Random Forest: \" + str(np.mean(kf_acc_rf)))\n",
    "\n",
    "plt.plot(kf_acc_comb, label=\"Combined\")\n",
    "plt.plot(kf_acc_poly, label=\"SVM\")\n",
    "plt.plot(kf_acc_rf, label=\"RF\")\n",
    "plt.title(\"SVM k-Fold Accuracies for 3 Models\")\n",
    "plt.xlabel(\"Run\")\n",
    "plt.ylabel(\"Accuracy\")\n",
    "plt.legend()"
   ]
  }
 ],
 "metadata": {
  "kernelspec": {
   "display_name": "Python 3",
   "language": "python",
   "name": "python3"
  },
  "language_info": {
   "codemirror_mode": {
    "name": "ipython",
    "version": 3
   },
   "file_extension": ".py",
   "mimetype": "text/x-python",
   "name": "python",
   "nbconvert_exporter": "python",
   "pygments_lexer": "ipython3",
   "version": "3.7.6"
  }
 },
 "nbformat": 4,
 "nbformat_minor": 4
}
