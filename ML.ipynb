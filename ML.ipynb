{
 "cells": [
  {
   "cell_type": "code",
   "execution_count": 60,
   "metadata": {
    "colab": {},
    "colab_type": "code",
    "id": "xqBDC7vEivy8"
   },
   "outputs": [
    {
     "name": "stderr",
     "output_type": "stream",
     "text": [
      "Using TensorFlow backend.\n"
     ]
    }
   ],
   "source": [
    "# Load libraries\n",
    "from sklearn import datasets\n",
    "import matplotlib.pyplot as plt \n",
    "import numpy as np\n",
    "import keras\n",
    "from keras.utils import to_categorical"
   ]
  },
  {
   "cell_type": "markdown",
   "metadata": {
    "colab_type": "text",
    "id": "V1ZwVmodscqF"
   },
   "source": [
    "Useful resources:\n",
    "- https://medium.com/@himanshubeniwal/handwritten-digit-recognition-using-machine-learning-ad30562a9b64\n",
    "\n",
    "### Load dataset"
   ]
  },
  {
   "cell_type": "code",
   "execution_count": 48,
   "metadata": {
    "colab": {},
    "colab_type": "code",
    "id": "Gxxeez-SmGhF"
   },
   "outputs": [],
   "source": [
    "x = np.loadtxt('data.txt', skiprows=0)"
   ]
  },
  {
   "cell_type": "code",
   "execution_count": 49,
   "metadata": {
    "colab": {},
    "colab_type": "code",
    "id": "6qCMm7M2oauL"
   },
   "outputs": [],
   "source": [
    "# possible digits\n",
    "digits = np.array([0,1,2,3,4,5,6,7,8,9])"
   ]
  },
  {
   "cell_type": "code",
   "execution_count": 50,
   "metadata": {
    "colab": {},
    "colab_type": "code",
    "id": "ixyOlBHSoePy"
   },
   "outputs": [],
   "source": [
    "# create target vector by repeating digits 200 times\n",
    "y = np.repeat(digits, 200, axis=0)"
   ]
  },
  {
   "cell_type": "markdown",
   "metadata": {},
   "source": [
    "### Normalize digits"
   ]
  },
  {
   "cell_type": "code",
   "execution_count": 51,
   "metadata": {},
   "outputs": [
    {
     "name": "stdout",
     "output_type": "stream",
     "text": [
      "6.0\n",
      "1.0\n"
     ]
    }
   ],
   "source": [
    "print(x[1][40])\n",
    "\n",
    "i = 0\n",
    "while i < 2000:\n",
    "    j = 0\n",
    "    while j < 240:\n",
    "        x[i][j] = x[i][j]/6\n",
    "        j += 1\n",
    "    i += 1\n",
    "        \n",
    "print(x[1][40])"
   ]
  },
  {
   "cell_type": "code",
   "execution_count": 52,
   "metadata": {},
   "outputs": [
    {
     "name": "stdout",
     "output_type": "stream",
     "text": [
      "[0.         0.         0.         0.         0.         0.\n",
      " 0.16666667 0.5        0.66666667 0.66666667 0.66666667 0.66666667\n",
      " 0.66666667 0.16666667 0.         0.         0.         0.\n",
      " 0.         0.16666667 0.66666667 1.         1.         1.\n",
      " 1.         1.         1.         1.         0.83333333 0.\n",
      " 0.         0.         0.         0.5        1.         1.\n",
      " 0.83333333 0.16666667 0.16666667 0.83333333 1.         1.\n",
      " 1.         1.         0.5        0.         0.33333333 1.\n",
      " 1.         1.         0.66666667 0.         0.         0.\n",
      " 0.5        1.         1.         1.         1.         0.5\n",
      " 0.         0.5        1.         1.         1.         0.16666667\n",
      " 0.         0.         0.         0.5        1.         1.\n",
      " 1.         1.         0.5        0.         0.66666667 1.\n",
      " 1.         0.33333333 0.         0.         0.         0.\n",
      " 0.33333333 1.         1.         1.         1.         0.5\n",
      " 0.         1.         1.         1.         0.         0.\n",
      " 0.         0.         0.         0.16666667 1.         1.\n",
      " 1.         1.         0.5        0.33333333 1.         1.\n",
      " 0.66666667 0.         0.         0.         0.         0.\n",
      " 0.5        1.         1.         1.         1.         0.33333333\n",
      " 0.5        1.         1.         0.83333333 0.         0.\n",
      " 0.         0.         0.         0.5        1.         1.\n",
      " 1.         1.         0.         0.16666667 1.         1.\n",
      " 0.16666667 0.         0.         0.         0.         0.\n",
      " 0.66666667 1.         1.         1.         1.         0.\n",
      " 0.33333333 1.         1.         0.83333333 0.         0.\n",
      " 0.         0.         0.33333333 1.         1.         1.\n",
      " 1.         0.5        0.         0.5        1.         1.\n",
      " 0.         0.         0.         0.         0.         0.5\n",
      " 1.         1.         1.         1.         0.5        0.\n",
      " 0.5        1.         1.         0.         0.         0.\n",
      " 0.         0.16666667 1.         1.         1.         1.\n",
      " 1.         0.33333333 0.         0.33333333 1.         1.\n",
      " 0.83333333 0.33333333 0.33333333 0.66666667 1.         1.\n",
      " 1.         1.         1.         0.66666667 0.         0.\n",
      " 0.         0.16666667 0.83333333 1.         1.         1.\n",
      " 1.         1.         1.         1.         1.         0.5\n",
      " 0.         0.         0.         0.         0.         0.16666667\n",
      " 0.5        0.66666667 0.33333333 0.66666667 0.66666667 0.66666667\n",
      " 0.66666667 0.33333333 0.         0.         0.         0.        ]\n"
     ]
    }
   ],
   "source": [
    "print(x[1])"
   ]
  },
  {
   "cell_type": "code",
   "execution_count": 53,
   "metadata": {
    "colab": {},
    "colab_type": "code",
    "id": "2Hy1ms2oouMD"
   },
   "outputs": [],
   "source": [
    "def chunks(lst, n):\n",
    "    \"\"\"Yield successive n-sized chunks from lst.\"\"\"\n",
    "    for i in range(0, len(lst), n):\n",
    "        yield lst[i:i + n]"
   ]
  },
  {
   "cell_type": "code",
   "execution_count": 105,
   "metadata": {
    "colab": {},
    "colab_type": "code",
    "id": "DExPNHUTo3d2"
   },
   "outputs": [],
   "source": [
    "digit = {}\n",
    "i = 0\n",
    "while i < 10:\n",
    "    n = i * 200 + 100\n",
    "    digit[i] = list(chunks(x[n], 15))\n",
    "    i += 1\n",
    "#x0 = list(chunks(x[0], 15))"
   ]
  },
  {
   "cell_type": "code",
   "execution_count": 106,
   "metadata": {
    "colab": {
     "base_uri": "https://localhost:8080/",
     "height": 265
    },
    "colab_type": "code",
    "id": "u46bkjsyo6T1",
    "outputId": "7cf8fa2d-b5c7-4d5a-c95a-79a1970f47d8"
   },
   "outputs": [
    {
     "data": {
      "image/png": "[encoded data removed]",
      "text/plain": [
       "<Figure size 432x288 with 1 Axes>"
      ]
     },
     "metadata": {
      "needs_background": "light"
     },
     "output_type": "display_data"
    },
    {
     "data": {
      "image/png": "[encoded data removed]",
      "text/plain": [
       "<Figure size 432x288 with 1 Axes>"
      ]
     },
     "metadata": {
      "needs_background": "light"
     },
     "output_type": "display_data"
    },
    {
     "data": {
      "image/png": "[encoded data removed]",
      "text/plain": [
       "<Figure size 432x288 with 1 Axes>"
      ]
     },
     "metadata": {
      "needs_background": "light"
     },
     "output_type": "display_data"
    },
    {
     "data": {
      "image/png": "[encoded data removed]",
      "text/plain": [
       "<Figure size 432x288 with 1 Axes>"
      ]
     },
     "metadata": {
      "needs_background": "light"
     },
     "output_type": "display_data"
    },
    {
     "data": {
      "image/png": "[encoded data removed]",
      "text/plain": [
       "<Figure size 432x288 with 1 Axes>"
      ]
     },
     "metadata": {
      "needs_background": "light"
     },
     "output_type": "display_data"
    },
    {
     "data": {
      "image/png": "[encoded data removed]",
      "text/plain": [
       "<Figure size 432x288 with 1 Axes>"
      ]
     },
     "metadata": {
      "needs_background": "light"
     },
     "output_type": "display_data"
    },
    {
     "data": {
      "image/png": "[encoded data removed]",
      "text/plain": [
       "<Figure size 432x288 with 1 Axes>"
      ]
     },
     "metadata": {
      "needs_background": "light"
     },
     "output_type": "display_data"
    },
    {
     "data": {
      "image/png": "[encoded data removed]",
      "text/plain": [
       "<Figure size 432x288 with 1 Axes>"
      ]
     },
     "metadata": {
      "needs_background": "light"
     },
     "output_type": "display_data"
    },
    {
     "data": {
      "image/png": "[encoded data removed]",
      "text/plain": [
       "<Figure size 432x288 with 1 Axes>"
      ]
     },
     "metadata": {
      "needs_background": "light"
     },
     "output_type": "display_data"
    },
    {
     "data": {
      "image/png": "[encoded data removed]",
      "text/plain": [
       "<Figure size 432x288 with 1 Axes>"
      ]
     },
     "metadata": {
      "needs_background": "light"
     },
     "output_type": "display_data"
    }
   ],
   "source": [
    "i = 0\n",
    "while i < 10:    \n",
    "    plt.imshow(digit[i], cmap='gray', vmin=0, vmax=1)\n",
    "    plt.axis('off')\n",
    "    plt.show()\n",
    "    i += 1"
   ]
  },
  {
   "cell_type": "code",
   "execution_count": 56,
   "metadata": {
    "colab": {},
    "colab_type": "code",
    "id": "5UEMczgno9hA"
   },
   "outputs": [],
   "source": [
    "# split into train and test\n",
    "train_x = np.concatenate([x[0:100],x[200:300],x[400:500],x[600:700],x[800:900],x[1000:1100],x[1200:1300],x[1400:1500],x[1600:1700],x[1800:1900]])\n",
    "train_y = np.repeat(digits, 100, axis=0)\n",
    "test_x = np.concatenate([x[100:200],x[300:400],x[500:600],x[700:800],x[900:1000],x[1100:1200],x[1300:1400],x[1500:1600],x[1700:1800],x[1900:2000]])\n",
    "test_y = np.repeat(digits, 100, axis=0)"
   ]
  },
  {
   "cell_type": "markdown",
   "metadata": {},
   "source": [
    "### Prototype Matching"
   ]
  },
  {
   "cell_type": "code",
   "execution_count": 117,
   "metadata": {},
   "outputs": [
    {
     "name": "stdout",
     "output_type": "stream",
     "text": [
      "[0.01, 0.04666666666666667, 0.15999999999999998, 0.3783333333333336, 0.6316666666666664, 0.7633333333333332, 0.8533333333333333, 0.8616666666666666, 0.8466666666666672, 0.8133333333333335, 0.7316666666666666, 0.5816666666666664, 0.4166666666666665, 0.18999999999999997, 0.03333333333333333, 0.06833333333333334, 0.3433333333333334, 0.7233333333333334, 0.9133333333333334, 0.9766666666666667, 0.9833333333333333, 0.955, 0.9550000000000002, 0.9683333333333334, 0.9816666666666666, 0.9866666666666667, 0.9699999999999999, 0.8699999999999999, 0.6016666666666668, 0.19166666666666668, 0.27833333333333327, 0.7916666666666669, 0.9516666666666667, 0.9716666666666667, 0.905, 0.7383333333333336, 0.565, 0.4783333333333333, 0.5249999999999998, 0.7533333333333333, 0.9366666666666668, 0.995, 0.9849999999999999, 0.8333333333333333, 0.4016666666666666, 0.5166666666666669, 0.945, 0.975, 0.9416666666666665, 0.6916666666666668, 0.28833333333333344, 0.08833333333333333, 0.06999999999999999, 0.12666666666666665, 0.36, 0.7483333333333334, 0.9550000000000002, 0.9866666666666666, 0.9016666666666666, 0.5716666666666667, 0.6083333333333332, 0.9549999999999998, 0.97, 0.9299999999999998, 0.5783333333333333, 0.21333333333333332, 0.06833333333333334, 0.07, 0.1383333333333333, 0.33166666666666667, 0.7333333333333333, 0.955, 0.9833333333333334, 0.925, 0.5916666666666667, 0.4766666666666666, 0.8849999999999999, 0.9449999999999998, 0.9566666666666666, 0.7366666666666667, 0.45666666666666655, 0.3066666666666667, 0.2583333333333334, 0.3383333333333334, 0.5233333333333333, 0.8083333333333332, 0.9716666666666667, 0.985, 0.9166666666666667, 0.535, 0.24000000000000005, 0.6866666666666665, 0.86, 0.9199999999999998, 0.8683333333333332, 0.705, 0.61, 0.605, 0.6533333333333334, 0.76, 0.9033333333333334, 0.985, 0.98, 0.8566666666666665, 0.4366666666666667, 0.08833333333333332, 0.33000000000000007, 0.5833333333333334, 0.7066666666666667, 0.7600000000000001, 0.7550000000000003, 0.71, 0.6983333333333331, 0.7383333333333332, 0.8333333333333331, 0.9416666666666668, 0.9866666666666666, 0.96, 0.7316666666666667, 0.32666666666666666, 0.016666666666666666, 0.10666666666666665, 0.24000000000000007, 0.3599999999999999, 0.455, 0.5350000000000001, 0.5366666666666666, 0.58, 0.6933333333333331, 0.8200000000000002, 0.9416666666666665, 0.97, 0.8799999999999999, 0.6166666666666667, 0.205, 0.0016666666666666666, 0.018333333333333333, 0.05666666666666667, 0.09666666666666666, 0.15833333333333333, 0.24, 0.295, 0.39833333333333343, 0.5549999999999998, 0.7333333333333334, 0.9283333333333332, 0.8999999999999997, 0.7383333333333334, 0.4649999999999999, 0.13666666666666666, 0.0, 0.0016666666666666666, 0.015, 0.028333333333333335, 0.06333333333333334, 0.10833333333333332, 0.17833333333333334, 0.32, 0.535, 0.6949999999999998, 0.8633333333333333, 0.8099999999999998, 0.6200000000000001, 0.3600000000000001, 0.12166666666666667, 0.0, 0.005, 0.015, 0.035, 0.06166666666666666, 0.125, 0.22833333333333336, 0.425, 0.5716666666666667, 0.6783333333333332, 0.7583333333333334, 0.6666666666666667, 0.4883333333333333, 0.30333333333333334, 0.10499999999999998, 0.005, 0.02, 0.05166666666666666, 0.07666666666666667, 0.09833333333333334, 0.21, 0.35333333333333333, 0.5066666666666666, 0.605, 0.65, 0.6516666666666667, 0.5483333333333333, 0.41666666666666663, 0.245, 0.09333333333333332, 0.018333333333333333, 0.05833333333333334, 0.09999999999999998, 0.145, 0.23833333333333337, 0.37166666666666665, 0.5099999999999999, 0.635, 0.6616666666666666, 0.6349999999999999, 0.5666666666666667, 0.4916666666666667, 0.385, 0.19333333333333327, 0.06833333333333334, 0.05833333333333333, 0.095, 0.16833333333333336, 0.27, 0.41833333333333333, 0.5916666666666667, 0.675, 0.7216666666666666, 0.6633333333333334, 0.6183333333333334, 0.4866666666666667, 0.405, 0.2833333333333334, 0.14666666666666667, 0.05333333333333333, 0.03666666666666667, 0.061666666666666675, 0.11999999999999997, 0.16499999999999992, 0.2333333333333333, 0.37, 0.4166666666666665, 0.4016666666666665, 0.38499999999999995, 0.31166666666666687, 0.24666666666666678, 0.19, 0.12999999999999998, 0.06, 0.015000000000000003]\n"
     ]
    }
   ],
   "source": [
    "#print(sum(train_x[0]) / len(train_x[0]))\n",
    "\n",
    "zero = train_x[0:100]\n",
    "averages = []\n",
    "k = 0\n",
    "while k < 10:\n",
    "    start = k * 100\n",
    "    digit = train_x[start:start+100]    \n",
    "    average = []\n",
    "    j = 0\n",
    "    while j < 240:\n",
    "        samedigit = []\n",
    "        i = 0\n",
    "        while i < 100:\n",
    "            samedigit.append(digit[i][j])\n",
    "            i += 1\n",
    "        average.append(sum(samedigit)/len(samedigit))\n",
    "        j += 1\n",
    "    averages.append(average)\n",
    "    k += 1\n",
    "        \n",
    "print(averages[9])"
   ]
  },
  {
   "cell_type": "code",
   "execution_count": 118,
   "metadata": {},
   "outputs": [
    {
     "data": {
      "image/png": "[encoded data removed]",
      "text/plain": [
       "<Figure size 432x288 with 1 Axes>"
      ]
     },
     "metadata": {
      "needs_background": "light"
     },
     "output_type": "display_data"
    },
    {
     "data": {
      "image/png": "[encoded data removed]",
      "text/plain": [
       "<Figure size 432x288 with 1 Axes>"
      ]
     },
     "metadata": {
      "needs_background": "light"
     },
     "output_type": "display_data"
    },
    {
     "data": {
      "image/png": "[encoded data removed]",
      "text/plain": [
       "<Figure size 432x288 with 1 Axes>"
      ]
     },
     "metadata": {
      "needs_background": "light"
     },
     "output_type": "display_data"
    },
    {
     "data": {
      "image/png": "[encoded data removed]",
      "text/plain": [
       "<Figure size 432x288 with 1 Axes>"
      ]
     },
     "metadata": {
      "needs_background": "light"
     },
     "output_type": "display_data"
    },
    {
     "data": {
      "image/png": "[encoded data removed]",
      "text/plain": [
       "<Figure size 432x288 with 1 Axes>"
      ]
     },
     "metadata": {
      "needs_background": "light"
     },
     "output_type": "display_data"
    },
    {
     "data": {
      "image/png": "[encoded data removed]",
      "text/plain": [
       "<Figure size 432x288 with 1 Axes>"
      ]
     },
     "metadata": {
      "needs_background": "light"
     },
     "output_type": "display_data"
    },
    {
     "data": {
      "image/png": "[encoded data removed]",
      "text/plain": [
       "<Figure size 432x288 with 1 Axes>"
      ]
     },
     "metadata": {
      "needs_background": "light"
     },
     "output_type": "display_data"
    },
    {
     "data": {
      "image/png": "[encoded data removed]",
      "text/plain": [
       "<Figure size 432x288 with 1 Axes>"
      ]
     },
     "metadata": {
      "needs_background": "light"
     },
     "output_type": "display_data"
    },
    {
     "data": {
      "image/png": "[encoded data removed]",
      "text/plain": [
       "<Figure size 432x288 with 1 Axes>"
      ]
     },
     "metadata": {
      "needs_background": "light"
     },
     "output_type": "display_data"
    },
    {
     "data": {
      "image/png": "[encoded data removed]",
      "text/plain": [
       "<Figure size 432x288 with 1 Axes>"
      ]
     },
     "metadata": {
      "needs_background": "light"
     },
     "output_type": "display_data"
    }
   ],
   "source": [
    "digit = {}\n",
    "i = 0\n",
    "while i < 10:\n",
    "    digit[i] = list(chunks(averages[i], 15))\n",
    "    i += 1\n",
    "    \n",
    "i = 0\n",
    "while i < 10:    \n",
    "    plt.imshow(digit[i], cmap='gray', vmin=0, vmax=1)\n",
    "    plt.axis('off')\n",
    "    plt.show()\n",
    "    i += 1"
   ]
  },
  {
   "cell_type": "markdown",
   "metadata": {
    "colab_type": "text",
    "id": "tjG3qpmPNAla"
   },
   "source": [
    "## Principal Component Analysis\n",
    "\n",
    "Based on sklearn docs: https://scikit-learn.org/stable/modules/generated/sklearn.decomposition.PCA.html\n",
    "\n",
    "Plotting the total explained variance ratio with an increasing number of included PCs.\n",
    "\n",
    "For some algorithms it might be helpful to limit the number of included PCs"
   ]
  },
  {
   "cell_type": "code",
   "execution_count": 41,
   "metadata": {
    "colab": {
     "base_uri": "https://localhost:8080/",
     "height": 283
    },
    "colab_type": "code",
    "id": "14-qRaDFNDYT",
    "outputId": "b0895954-8ebf-44ef-a022-82f986aec22c"
   },
   "outputs": [
    {
     "data": {
      "text/plain": [
       "[<matplotlib.lines.Line2D at 0x1f0cd7da048>]"
      ]
     },
     "execution_count": 41,
     "metadata": {},
     "output_type": "execute_result"
    },
    {
     "data": {
      "image/png": "[encoded data removed]",
      "text/plain": [
       "<Figure size 432x288 with 1 Axes>"
      ]
     },
     "metadata": {
      "needs_background": "light"
     },
     "output_type": "display_data"
    }
   ],
   "source": [
    "from sklearn.decomposition import PCA\n",
    "\n",
    "tot_expl_var = []\n",
    "for i in range(1, 200):\n",
    "    tot_expl_var.append(sum(PCA(n_components=i).fit(x).explained_variance_ratio_))\n",
    "    \n",
    "plt.plot(tot_expl_var)"
   ]
  },
  {
   "cell_type": "markdown",
   "metadata": {
    "colab_type": "text",
    "id": "-eFN30huBjiW"
   },
   "source": [
    "## Basic SVM Algorithm(s)\n",
    "\n",
    "Based on SKLearn Docs: https://scikit-learn.org/stable/modules/svm.html\n",
    "\n",
    "Polynomial seems best, all other kernels did well, but not this well. If combined with proper preprocessing, the SVM should be investigated again, I guess. Accuracy seems irritatingly high however, considering that it is just the very basic SVM algorithm that was used here.\n",
    "\n",
    "### Polynominal Kernel w/ 3 df\n"
   ]
  },
  {
   "cell_type": "code",
   "execution_count": 39,
   "metadata": {
    "colab": {
     "base_uri": "https://localhost:8080/",
     "height": 606
    },
    "colab_type": "code",
    "id": "AqKkN5ARD516",
    "outputId": "0a81f098-7771-4d12-fc14-8d3fd2bb2b18"
   },
   "outputs": [
    {
     "name": "stderr",
     "output_type": "stream",
     "text": [
      "C:\\Users\\nikla\\Anaconda3\\lib\\site-packages\\sklearn\\svm\\base.py:196: FutureWarning: The default value of gamma will change from 'auto' to 'scale' in version 0.22 to account better for unscaled features. Set gamma explicitly to 'auto' or 'scale' to avoid this warning.\n",
      "  \"avoid this warning.\", FutureWarning)\n"
     ]
    },
    {
     "name": "stdout",
     "output_type": "stream",
     "text": [
      "[0 0 0 0 0 0 4 4 0 0 0 0 0 0 0 0 0 0 0 0 0 0 0 0 0 0 0 0 5 0 0 0 0 0 0 5 0\n",
      " 0 0 0 0 0 0 0 0 0 0 0 0 0 0 0 0 0 0 0 0 0 1 0 0 0 0 0 0 0 0 0 0 0 0 0 4 0\n",
      " 0 0 0 0 0 0 0 0 0 0 0 0 0 0 0 0 0 0 0 0 0 0 0 0 0 0 1 1 1 1 1 1 1 4 1 1 1\n",
      " 1 7 1 1 1 1 1 1 4 1 1 1 1 1 7 1 4 1 1 1 1 1 1 4 1 1 1 1 1 1 1 1 1 7 1 1 7\n",
      " 1 1 1 1 1 1 1 1 1 1 1 1 7 1 1 1 1 4 1 1 1 1 9 1 1 1 1 1 1 1 1 4 1 1 1 1 1\n",
      " 1 1 1 1 1 9 1 1 1 1 1 1 1 1 1 2 2 2 2 2 2 2 2 2 2 2 2 7 2 2 2 2 2 2 2 2 2\n",
      " 2 2 2 2 2 2 2 2 2 2 2 2 2 2 2 2 2 2 2 2 2 2 2 2 2 2 2 2 2 2 2 2 2 2 2 2 2\n",
      " 2 2 2 2 2 2 2 2 2 2 2 2 2 2 7 2 2 2 2 9 2 2 2 2 2 2 2 2 2 2 2 2 2 2 2 2 2\n",
      " 2 2 2 2 3 7 4 3 3 3 3 3 3 3 3 3 3 4 3 3 3 3 3 3 3 3 3 3 3 3 3 3 3 3 3 3 3\n",
      " 3 3 3 3 3 3 3 3 3 3 7 3 3 3 3 3 3 3 3 3 3 3 3 3 3 3 3 3 3 3 3 3 3 3 3 3 3\n",
      " 3 3 3 3 3 3 2 3 3 3 3 3 3 4 3 3 3 3 3 3 3 3 3 3 3 3 3 3 3 3 4 4 4 4 4 4 4\n",
      " 4 4 4 4 4 4 4 4 4 4 4 4 4 4 4 4 4 4 4 4 4 4 4 4 4 4 4 4 4 4 4 4 4 4 4 4 4\n",
      " 4 4 4 4 4 4 4 4 4 4 4 4 4 4 4 4 4 4 4 4 4 4 4 4 4 4 4 4 4 4 4 4 4 4 4 4 4\n",
      " 4 4 4 4 4 4 4 4 4 4 4 4 4 4 4 4 4 4 4 5 3 5 5 5 5 5 5 5 5 5 5 5 5 5 5 5 5\n",
      " 5 5 3 5 5 5 5 5 5 5 5 2 5 5 5 5 5 5 5 5 5 5 5 3 5 5 5 9 5 5 5 5 5 5 5 5 5\n",
      " 5 5 5 5 5 5 5 5 5 3 5 5 5 5 5 5 5 5 5 5 4 5 5 5 5 5 5 5 5 5 5 5 5 5 5 5 5\n",
      " 5 5 4 5 5 5 5 5 5 6 6 6 6 6 6 6 6 6 6 6 6 6 6 6 6 6 6 6 6 6 6 6 6 6 6 6 6\n",
      " 6 4 6 6 6 6 6 6 6 6 6 6 6 6 6 6 4 6 6 6 6 6 5 5 6 6 6 6 6 6 6 6 6 6 6 6 6\n",
      " 6 6 6 6 6 6 6 6 6 6 6 6 4 6 4 6 6 6 6 6 6 6 6 6 3 6 6 6 6 6 6 6 6 6 7 7 7\n",
      " 7 7 7 7 7 7 7 7 7 7 7 7 7 7 7 7 7 7 7 7 7 7 7 7 7 7 7 7 7 7 7 7 7 7 7 7 7\n",
      " 7 7 7 7 7 7 7 7 7 7 7 7 7 7 7 7 7 9 7 7 7 7 7 7 7 7 7 7 7 7 7 7 7 7 7 7 7\n",
      " 9 9 7 7 7 7 7 7 7 7 7 7 7 7 7 7 7 7 7 7 7 7 7 8 8 8 8 8 8 8 8 8 8 8 8 8 8\n",
      " 8 8 8 8 8 8 8 8 8 8 8 1 8 1 8 8 8 8 8 5 8 8 1 8 8 8 8 8 8 8 8 8 8 8 8 8 1\n",
      " 8 8 8 8 4 8 4 2 8 8 3 8 8 8 8 8 8 8 8 8 8 8 8 0 8 8 8 8 8 8 8 8 8 8 8 8 8\n",
      " 8 8 8 8 8 8 8 8 8 8 8 8 9 9 9 9 9 9 9 9 9 9 9 9 9 9 9 3 9 9 9 5 9 9 9 9 9\n",
      " 9 9 9 9 9 9 9 9 9 9 9 5 9 9 2 9 9 9 9 9 5 9 9 9 9 9 9 9 9 9 9 9 9 9 9 9 9\n",
      " 9 9 9 9 9 9 9 9 9 9 9 9 9 9 9 9 9 9 9 9 9 9 9 9 9 9 9 9 9 2 9 9 9 9 9 9 9\n",
      " 9]\n"
     ]
    },
    {
     "data": {
      "text/plain": [
       "0.937"
      ]
     },
     "execution_count": 39,
     "metadata": {},
     "output_type": "execute_result"
    }
   ],
   "source": [
    "from sklearn import svm\n",
    "from sklearn.metrics import accuracy_score\n",
    "\n",
    "svc = svm.SVC(kernel=\"poly\", degree=3, decision_function_shape=\"ovo\")\n",
    "svc.fit(train_x, train_y)\n",
    "pred_y = svc.predict(test_x)\n",
    "print(pred_y)\n",
    "\n",
    "accuracy_score(test_y, pred_y)"
   ]
  },
  {
   "cell_type": "markdown",
   "metadata": {
    "colab_type": "text",
    "id": "4Mre0ttGELvn"
   },
   "source": [
    "### Linear Kernel\n"
   ]
  },
  {
   "cell_type": "code",
   "execution_count": 40,
   "metadata": {
    "colab": {
     "base_uri": "https://localhost:8080/",
     "height": 550
    },
    "colab_type": "code",
    "id": "xjDVzNNEESbh",
    "outputId": "765ccd11-3d4a-4f42-b87c-a083236917b4"
   },
   "outputs": [
    {
     "name": "stdout",
     "output_type": "stream",
     "text": [
      "[0 0 0 0 0 0 1 1 0 0 0 0 0 0 0 0 0 0 0 0 0 0 0 0 0 0 0 0 0 0 0 0 0 0 0 5 0\n",
      " 0 0 0 0 0 0 0 0 0 0 0 0 0 0 0 0 0 0 0 0 0 1 0 0 0 0 0 0 0 0 0 0 0 0 0 0 0\n",
      " 0 0 0 0 0 0 0 0 0 0 0 0 0 0 0 0 0 0 0 0 0 0 0 0 0 0 1 1 4 1 1 1 1 1 1 1 1\n",
      " 1 1 1 1 1 1 1 1 1 1 1 1 1 1 1 1 1 1 1 1 1 1 1 1 1 1 1 1 1 1 1 1 1 1 1 1 1\n",
      " 1 1 1 1 1 1 1 1 1 1 1 1 1 1 1 1 1 1 1 1 1 1 1 1 1 1 1 1 1 1 1 1 1 1 1 1 1\n",
      " 1 1 1 1 1 1 1 1 1 1 1 1 1 1 1 2 2 2 2 2 2 2 2 2 2 2 2 2 2 2 2 2 2 2 2 2 2\n",
      " 2 2 2 2 2 2 2 2 2 2 2 2 2 2 2 2 2 2 2 2 2 2 2 2 2 2 2 2 2 2 2 2 2 2 2 2 2\n",
      " 2 2 2 2 2 2 2 2 2 2 2 2 2 2 1 2 2 2 2 2 2 2 2 2 2 2 2 2 2 2 2 2 2 2 2 2 2\n",
      " 2 2 2 7 3 3 3 3 3 3 3 3 3 3 3 3 3 3 3 3 3 3 3 3 3 3 3 3 9 3 3 3 3 3 3 3 3\n",
      " 9 3 3 3 3 3 3 3 3 3 3 3 3 3 3 3 3 3 3 3 3 3 3 3 3 3 3 3 3 3 3 3 3 3 3 3 3\n",
      " 3 3 3 3 3 3 2 3 3 3 3 3 3 0 3 3 3 3 3 3 3 3 3 3 3 3 3 3 3 3 4 4 4 4 4 4 4\n",
      " 4 4 4 4 4 1 4 4 4 4 4 4 4 4 4 4 4 4 4 4 4 4 4 4 4 4 4 4 4 4 4 4 1 4 4 4 4\n",
      " 4 4 4 4 4 4 4 1 4 4 4 4 4 1 4 4 4 4 4 4 4 4 4 4 4 4 4 4 4 4 4 4 4 4 4 4 4\n",
      " 4 4 4 4 4 4 4 4 4 4 4 4 4 4 4 4 4 4 4 5 3 5 5 5 5 5 5 5 5 5 5 5 5 5 5 5 5\n",
      " 5 5 3 5 5 5 5 5 5 5 5 5 8 5 5 5 5 5 5 5 5 5 5 1 5 5 5 4 5 5 5 5 5 5 5 5 5\n",
      " 5 5 5 5 5 5 5 5 5 3 5 5 5 5 5 5 5 5 5 5 5 5 5 5 5 5 5 5 5 5 5 5 5 5 5 5 5\n",
      " 5 5 5 5 5 5 5 5 5 6 6 6 6 6 6 6 6 6 6 6 6 6 6 6 6 6 6 6 6 6 6 6 6 6 6 6 6\n",
      " 6 1 6 6 6 6 6 6 6 6 6 6 6 6 6 6 1 6 6 6 6 6 5 6 6 6 6 6 6 6 6 6 6 6 6 6 6\n",
      " 6 6 6 6 6 6 6 6 6 6 6 6 6 6 6 6 6 6 6 6 6 6 6 6 6 6 6 6 6 6 6 6 6 6 7 7 7\n",
      " 7 7 7 7 7 7 7 7 7 7 7 7 7 7 7 7 7 7 7 7 7 7 7 7 7 7 7 7 7 7 7 7 7 7 7 7 7\n",
      " 7 7 7 7 7 7 7 7 7 7 7 7 7 7 7 7 7 7 7 7 7 7 7 7 7 7 7 7 7 7 7 7 7 7 7 7 7\n",
      " 9 7 7 7 7 7 7 7 7 7 7 7 7 7 7 7 7 7 7 7 7 7 7 8 8 8 8 8 8 8 8 8 8 8 8 8 8\n",
      " 8 8 8 8 8 8 8 8 8 8 8 1 8 8 8 8 8 8 8 5 8 8 8 8 8 8 8 8 8 8 8 8 8 8 8 8 8\n",
      " 8 8 8 8 5 8 4 8 8 8 8 8 8 8 8 8 8 8 8 8 8 8 8 0 8 8 8 8 8 8 8 8 8 8 8 8 8\n",
      " 8 8 8 8 8 8 8 8 8 8 8 8 9 9 9 9 9 9 9 9 9 9 9 9 9 9 9 3 9 9 9 3 9 9 9 9 9\n",
      " 9 9 9 9 9 9 9 9 9 9 9 9 9 9 7 9 9 9 9 9 3 9 9 9 9 9 9 9 9 9 9 9 9 9 9 9 9\n",
      " 9 9 9 9 9 9 9 9 9 9 9 9 9 9 9 9 9 9 9 1 9 9 9 9 9 9 9 9 9 9 9 9 9 9 9 9 9\n",
      " 9]\n"
     ]
    },
    {
     "data": {
      "text/plain": [
       "0.964"
      ]
     },
     "execution_count": 40,
     "metadata": {},
     "output_type": "execute_result"
    }
   ],
   "source": [
    "svc = svm.SVC(kernel=\"linear\", decision_function_shape=\"ovo\")\n",
    "svc.fit(train_x, train_y)\n",
    "pred_y = svc.predict(test_x)\n",
    "print(pred_y)\n",
    "\n",
    "accuracy_score(test_y, pred_y)"
   ]
  },
  {
   "cell_type": "markdown",
   "metadata": {},
   "source": [
    "### Neural network"
   ]
  },
  {
   "cell_type": "code",
   "execution_count": 43,
   "metadata": {},
   "outputs": [
    {
     "name": "stdout",
     "output_type": "stream",
     "text": [
      "label:  0  in one-hot representation:  [1 0 0 0 0 0 0 0 0 0]\n",
      "label:  1  in one-hot representation:  [0 1 0 0 0 0 0 0 0 0]\n",
      "label:  2  in one-hot representation:  [0 0 1 0 0 0 0 0 0 0]\n",
      "label:  3  in one-hot representation:  [0 0 0 1 0 0 0 0 0 0]\n",
      "label:  4  in one-hot representation:  [0 0 0 0 1 0 0 0 0 0]\n",
      "label:  5  in one-hot representation:  [0 0 0 0 0 1 0 0 0 0]\n",
      "label:  6  in one-hot representation:  [0 0 0 0 0 0 1 0 0 0]\n",
      "label:  7  in one-hot representation:  [0 0 0 0 0 0 0 1 0 0]\n",
      "label:  8  in one-hot representation:  [0 0 0 0 0 0 0 0 1 0]\n",
      "label:  9  in one-hot representation:  [0 0 0 0 0 0 0 0 0 1]\n"
     ]
    }
   ],
   "source": [
    "lr = np.arange(10)\n",
    "\n",
    "for label in range(10):\n",
    "    one_hot = (lr==label).astype(np.int)\n",
    "    print(\"label: \", label, \" in one-hot representation: \", one_hot)"
   ]
  },
  {
   "cell_type": "markdown",
   "metadata": {},
   "source": [
    "#### One hot encoding"
   ]
  },
  {
   "cell_type": "code",
   "execution_count": 88,
   "metadata": {},
   "outputs": [
    {
     "name": "stdout",
     "output_type": "stream",
     "text": [
      "> 96.500\n",
      "> 95.500\n",
      "> 97.000\n",
      "> 96.000\n",
      "> 96.000\n"
     ]
    },
    {
     "data": {
      "image/png": "[encoded data removed]",
      "text/plain": [
       "<Figure size 432x288 with 2 Axes>"
      ]
     },
     "metadata": {
      "needs_background": "light"
     },
     "output_type": "display_data"
    },
    {
     "name": "stdout",
     "output_type": "stream",
     "text": [
      "Accuracy: mean=96.200 std=0.510, n=5\n"
     ]
    },
    {
     "data": {
      "image/png": "[encoded data removed]",
      "text/plain": [
       "<Figure size 432x288 with 1 Axes>"
      ]
     },
     "metadata": {
      "needs_background": "light"
     },
     "output_type": "display_data"
    }
   ],
   "source": [
    "# baseline cnn model for mnist\n",
    "from numpy import mean\n",
    "from numpy import std\n",
    "from matplotlib import pyplot\n",
    "from sklearn.model_selection import KFold\n",
    "from keras.datasets import mnist\n",
    "from keras.utils import to_categorical\n",
    "from keras.models import Sequential\n",
    "from keras.layers import Conv2D\n",
    "from keras.layers import MaxPooling2D\n",
    "from keras.layers import Dense\n",
    "from keras.layers import Flatten\n",
    "from keras.optimizers import SGD\n",
    " \n",
    "# load train and test dataset\n",
    "def load_dataset():\n",
    "    trainY = to_categorical(train_y)\n",
    "    testY = to_categorical(test_y)\n",
    "\n",
    "    trainX = train_x.reshape((train_x.shape[0], 15, 16, 1))\n",
    "    testX = test_x.reshape((test_x.shape[0], 15, 16, 1))\n",
    "    return trainX, trainY, testX, testY\n",
    " \n",
    "# scale pixels\n",
    "def prep_pixels(train, test):\n",
    "    # convert from integers to floats\n",
    "    train_norm = train.astype('float32')\n",
    "    test_norm = test.astype('float32')\n",
    "    \n",
    "    # return normalized images\n",
    "    return train_norm, test_norm\n",
    " \n",
    "# define cnn model\n",
    "def define_model():\n",
    "    model = Sequential()\n",
    "    model.add(Conv2D(32, (3, 3), activation='relu', kernel_initializer='he_uniform', input_shape=(15, 16, 1)))\n",
    "    model.add(MaxPooling2D((2, 2)))\n",
    "    model.add(Flatten())\n",
    "    model.add(Dense(100, activation='relu', kernel_initializer='he_uniform'))\n",
    "    model.add(Dense(10, activation='softmax'))\n",
    "    # compile model\n",
    "    opt = SGD(lr=0.01, momentum=0.9)\n",
    "    model.compile(optimizer=opt, loss='categorical_crossentropy', metrics=['accuracy'])\n",
    "    return model\n",
    " \n",
    "# evaluate a model using k-fold cross-validation\n",
    "def evaluate_model(dataX, dataY, n_folds=5):\n",
    "    scores, histories = list(), list()\n",
    "    # prepare cross validation\n",
    "    kfold = KFold(n_folds, shuffle=True, random_state=1)\n",
    "    # enumerate splits\n",
    "    for train_ix, test_ix in kfold.split(dataX):\n",
    "        # define model\n",
    "        model = define_model()\n",
    "        # select rows for train and test\n",
    "        trainX, trainY, testX, testY = dataX[train_ix], dataY[train_ix], dataX[test_ix], dataY[test_ix]\n",
    "        # fit model\n",
    "        history = model.fit(trainX, trainY, epochs=20, batch_size=50, validation_data=(testX, testY), verbose=0)\n",
    "        # evaluate model\n",
    "        _, acc = model.evaluate(testX, testY, verbose=0)\n",
    "        print('> %.3f' % (acc * 100.0))\n",
    "        # stores scores\n",
    "        scores.append(acc)\n",
    "        histories.append(history)\n",
    "    return scores, histories\n",
    " \n",
    "# plot diagnostic learning curves\n",
    "def summarize_diagnostics(histories):\n",
    "    for i in range(len(histories)):\n",
    "        # plot loss\n",
    "        pyplot.subplot(2, 1, 1)\n",
    "        pyplot.title('Cross Entropy Loss')\n",
    "        pyplot.plot(histories[i].history['loss'], color='blue', label='train')\n",
    "        pyplot.plot(histories[i].history['val_loss'], color='orange', label='test')\n",
    "        # plot accuracy\n",
    "        pyplot.subplot(2, 1, 2)\n",
    "        pyplot.title('Classification Accuracy')\n",
    "        pyplot.plot(histories[i].history['accuracy'], color='blue', label='train')\n",
    "        pyplot.plot(histories[i].history['val_accuracy'], color='orange', label='test')\n",
    "    pyplot.show()\n",
    " \n",
    "# summarize model performance\n",
    "def summarize_performance(scores):\n",
    "    # print summary\n",
    "    print('Accuracy: mean=%.3f std=%.3f, n=%d' % (mean(scores)*100, std(scores)*100, len(scores)))\n",
    "    # box and whisker plots of results\n",
    "    pyplot.boxplot(scores)\n",
    "    pyplot.show()\n",
    " \n",
    "# run the test harness for evaluating a model\n",
    "def run_test_harness():\n",
    "    # load dataset\n",
    "    trainX, trainY, testX, testY = load_dataset()\n",
    "    # prepare pixel data\n",
    "    trainX, testX = prep_pixels(trainX, testX)\n",
    "    # evaluate model\n",
    "    scores, histories = evaluate_model(trainX, trainY)\n",
    "    # learning curves\n",
    "    summarize_diagnostics(histories)\n",
    "    # summarize estimated performance\n",
    "    summarize_performance(scores)\n",
    " \n",
    "# entry point, run the test harness\n",
    "run_test_harness()\n"
   ]
  },
  {
   "cell_type": "markdown",
   "metadata": {},
   "source": [
    "### Prototype Matching"
   ]
  },
  {
   "cell_type": "code",
   "execution_count": null,
   "metadata": {},
   "outputs": [],
   "source": [
    "\n",
    "        "
   ]
  }
 ],
 "metadata": {
  "colab": {
   "collapsed_sections": [],
   "name": "ML.ipynb",
   "provenance": []
  },
  "kernelspec": {
   "display_name": "Python 3",
   "language": "python",
   "name": "python3"
  },
  "language_info": {
   "codemirror_mode": {
    "name": "ipython",
    "version": 3
   },
   "file_extension": ".py",
   "mimetype": "text/x-python",
   "name": "python",
   "nbconvert_exporter": "python",
   "pygments_lexer": "ipython3",
   "version": "3.7.3"
  }
 },
 "nbformat": 4,
 "nbformat_minor": 1
}
