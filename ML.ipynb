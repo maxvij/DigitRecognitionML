{
 "cells": [
  {
   "cell_type": "code",
   "execution_count": 6,
   "metadata": {
    "colab": {},
    "colab_type": "code",
    "id": "xqBDC7vEivy8"
   },
   "outputs": [],
   "source": [
    "# Load libraries\n",
    "from sklearn import datasets\n",
    "import matplotlib.pyplot as plt \n",
    "import numpy as np"
   ]
  },
  {
   "cell_type": "markdown",
   "metadata": {
    "colab_type": "text",
    "id": "V1ZwVmodscqF"
   },
   "source": [
    "Useful resources:\n",
    "- https://medium.com/@himanshubeniwal/handwritten-digit-recognition-using-machine-learning-ad30562a9b64\n",
    "\n",
    "### Load dataset"
   ]
  },
  {
   "cell_type": "code",
   "execution_count": 22,
   "metadata": {
    "colab": {},
    "colab_type": "code",
    "id": "Gxxeez-SmGhF"
   },
   "outputs": [],
   "source": [
    "x = np.loadtxt('data.txt', skiprows=0)"
   ]
  },
  {
   "cell_type": "code",
   "execution_count": 23,
   "metadata": {
    "colab": {},
    "colab_type": "code",
    "id": "6qCMm7M2oauL"
   },
   "outputs": [],
   "source": [
    "# possible digits\n",
    "digits = np.array([0,1,2,3,4,5,6,7,8,9])"
   ]
  },
  {
   "cell_type": "code",
   "execution_count": 24,
   "metadata": {
    "colab": {},
    "colab_type": "code",
    "id": "ixyOlBHSoePy"
   },
   "outputs": [],
   "source": [
    "# create target vector by repeating digits 200 times\n",
    "y = np.repeat(digits, 200, axis=0)"
   ]
  },
  {
   "cell_type": "markdown",
   "metadata": {},
   "source": [
    "### Normalize digits"
   ]
  },
  {
   "cell_type": "code",
   "execution_count": 25,
   "metadata": {},
   "outputs": [
    {
     "name": "stdout",
     "output_type": "stream",
     "text": [
      "6.0\n",
      "1.0\n"
     ]
    }
   ],
   "source": [
    "print(x[1][40])\n",
    "\n",
    "i = 0\n",
    "while i < 2000:\n",
    "    j = 0\n",
    "    while j < 240:\n",
    "        x[i][j] = x[i][j]/6\n",
    "        j += 1\n",
    "    i += 1\n",
    "        \n",
    "print(x[1][40])"
   ]
  },
  {
   "cell_type": "code",
   "execution_count": 26,
   "metadata": {},
   "outputs": [
    {
     "name": "stdout",
     "output_type": "stream",
     "text": [
      "[0.         0.         0.         0.         0.         0.\n",
      " 0.16666667 0.5        0.66666667 0.66666667 0.66666667 0.66666667\n",
      " 0.66666667 0.16666667 0.         0.         0.         0.\n",
      " 0.         0.16666667 0.66666667 1.         1.         1.\n",
      " 1.         1.         1.         1.         0.83333333 0.\n",
      " 0.         0.         0.         0.5        1.         1.\n",
      " 0.83333333 0.16666667 0.16666667 0.83333333 1.         1.\n",
      " 1.         1.         0.5        0.         0.33333333 1.\n",
      " 1.         1.         0.66666667 0.         0.         0.\n",
      " 0.5        1.         1.         1.         1.         0.5\n",
      " 0.         0.5        1.         1.         1.         0.16666667\n",
      " 0.         0.         0.         0.5        1.         1.\n",
      " 1.         1.         0.5        0.         0.66666667 1.\n",
      " 1.         0.33333333 0.         0.         0.         0.\n",
      " 0.33333333 1.         1.         1.         1.         0.5\n",
      " 0.         1.         1.         1.         0.         0.\n",
      " 0.         0.         0.         0.16666667 1.         1.\n",
      " 1.         1.         0.5        0.33333333 1.         1.\n",
      " 0.66666667 0.         0.         0.         0.         0.\n",
      " 0.5        1.         1.         1.         1.         0.33333333\n",
      " 0.5        1.         1.         0.83333333 0.         0.\n",
      " 0.         0.         0.         0.5        1.         1.\n",
      " 1.         1.         0.         0.16666667 1.         1.\n",
      " 0.16666667 0.         0.         0.         0.         0.\n",
      " 0.66666667 1.         1.         1.         1.         0.\n",
      " 0.33333333 1.         1.         0.83333333 0.         0.\n",
      " 0.         0.         0.33333333 1.         1.         1.\n",
      " 1.         0.5        0.         0.5        1.         1.\n",
      " 0.         0.         0.         0.         0.         0.5\n",
      " 1.         1.         1.         1.         0.5        0.\n",
      " 0.5        1.         1.         0.         0.         0.\n",
      " 0.         0.16666667 1.         1.         1.         1.\n",
      " 1.         0.33333333 0.         0.33333333 1.         1.\n",
      " 0.83333333 0.33333333 0.33333333 0.66666667 1.         1.\n",
      " 1.         1.         1.         0.66666667 0.         0.\n",
      " 0.         0.16666667 0.83333333 1.         1.         1.\n",
      " 1.         1.         1.         1.         1.         0.5\n",
      " 0.         0.         0.         0.         0.         0.16666667\n",
      " 0.5        0.66666667 0.33333333 0.66666667 0.66666667 0.66666667\n",
      " 0.66666667 0.33333333 0.         0.         0.         0.        ]\n"
     ]
    }
   ],
   "source": [
    "print(x[1])"
   ]
  },
  {
   "cell_type": "code",
   "execution_count": 27,
   "metadata": {
    "colab": {},
    "colab_type": "code",
    "id": "2Hy1ms2oouMD"
   },
   "outputs": [],
   "source": [
    "def chunks(lst, n):\n",
    "    \"\"\"Yield successive n-sized chunks from lst.\"\"\"\n",
    "    for i in range(0, len(lst), n):\n",
    "        yield lst[i:i + n]"
   ]
  },
  {
   "cell_type": "code",
   "execution_count": 36,
   "metadata": {
    "colab": {},
    "colab_type": "code",
    "id": "DExPNHUTo3d2"
   },
   "outputs": [],
   "source": [
    "digit = {}\n",
    "i = 0\n",
    "while i < 10:\n",
    "    n = i * 200\n",
    "    digit[i] = list(chunks(x[n], 15))\n",
    "    i += 1\n",
    "#x0 = list(chunks(x[0], 15))"
   ]
  },
  {
   "cell_type": "code",
   "execution_count": 42,
   "metadata": {
    "colab": {
     "base_uri": "https://localhost:8080/",
     "height": 265
    },
    "colab_type": "code",
    "id": "u46bkjsyo6T1",
    "outputId": "7cf8fa2d-b5c7-4d5a-c95a-79a1970f47d8"
   },
   "outputs": [
    {
     "data": {
      "image/png": "[encoded data removed]",
      "text/plain": [
       "<Figure size 432x288 with 1 Axes>"
      ]
     },
     "metadata": {
      "needs_background": "light"
     },
     "output_type": "display_data"
    },
    {
     "data": {
      "image/png": "[encoded data removed]",
      "text/plain": [
       "<Figure size 432x288 with 1 Axes>"
      ]
     },
     "metadata": {
      "needs_background": "light"
     },
     "output_type": "display_data"
    },
    {
     "data": {
      "image/png": "[encoded data removed]",
      "text/plain": [
       "<Figure size 432x288 with 1 Axes>"
      ]
     },
     "metadata": {
      "needs_background": "light"
     },
     "output_type": "display_data"
    },
    {
     "data": {
      "image/png": "[encoded data removed]",
      "text/plain": [
       "<Figure size 432x288 with 1 Axes>"
      ]
     },
     "metadata": {
      "needs_background": "light"
     },
     "output_type": "display_data"
    },
    {
     "data": {
      "image/png": "[encoded data removed]",
      "text/plain": [
       "<Figure size 432x288 with 1 Axes>"
      ]
     },
     "metadata": {
      "needs_background": "light"
     },
     "output_type": "display_data"
    },
    {
     "data": {
      "image/png": "[encoded data removed]",
      "text/plain": [
       "<Figure size 432x288 with 1 Axes>"
      ]
     },
     "metadata": {
      "needs_background": "light"
     },
     "output_type": "display_data"
    },
    {
     "data": {
      "image/png": "[encoded data removed]",
      "text/plain": [
       "<Figure size 432x288 with 1 Axes>"
      ]
     },
     "metadata": {
      "needs_background": "light"
     },
     "output_type": "display_data"
    },
    {
     "data": {
      "image/png": "[encoded data removed]",
      "text/plain": [
       "<Figure size 432x288 with 1 Axes>"
      ]
     },
     "metadata": {
      "needs_background": "light"
     },
     "output_type": "display_data"
    },
    {
     "data": {
      "image/png": "[encoded data removed]",
      "text/plain": [
       "<Figure size 432x288 with 1 Axes>"
      ]
     },
     "metadata": {
      "needs_background": "light"
     },
     "output_type": "display_data"
    },
    {
     "data": {
      "image/png": "[encoded data removed]",
      "text/plain": [
       "<Figure size 432x288 with 1 Axes>"
      ]
     },
     "metadata": {
      "needs_background": "light"
     },
     "output_type": "display_data"
    }
   ],
   "source": [
    "i = 0\n",
    "while i < 10:    \n",
    "    plt.imshow(digit[i], cmap='gray', vmin=0, vmax=1)\n",
    "    plt.axis('off')\n",
    "    plt.show()\n",
    "    i += 1"
   ]
  },
  {
   "cell_type": "code",
   "execution_count": 38,
   "metadata": {
    "colab": {},
    "colab_type": "code",
    "id": "5UEMczgno9hA"
   },
   "outputs": [],
   "source": [
    "# split into train and test\n",
    "train_x = np.concatenate([x[0:100],x[200:300],x[400:500],x[600:700],x[800:900],x[1000:1100],x[1200:1300],x[1400:1500],x[1600:1700],x[1800:1900]])\n",
    "train_y = np.repeat(digits, 100, axis=0)\n",
    "test_x = np.concatenate([x[100:200],x[300:400],x[500:600],x[700:800],x[900:1000],x[1100:1200],x[1300:1400],x[1500:1600],x[1700:1800],x[1900:2000]])\n",
    "test_y = np.repeat(digits, 100, axis=0)"
   ]
  },
  {
   "cell_type": "markdown",
   "metadata": {
    "colab_type": "text",
    "id": "tjG3qpmPNAla"
   },
   "source": [
    "## Principal Component Analysis\n",
    "\n",
    "Based on sklearn docs: https://scikit-learn.org/stable/modules/generated/sklearn.decomposition.PCA.html\n",
    "\n",
    "Plotting the total explained variance ratio with an increasing number of included PCs.\n",
    "\n",
    "For some algorithms it might be helpful to limit the number of included PCs"
   ]
  },
  {
   "cell_type": "code",
   "execution_count": 41,
   "metadata": {
    "colab": {
     "base_uri": "https://localhost:8080/",
     "height": 283
    },
    "colab_type": "code",
    "id": "14-qRaDFNDYT",
    "outputId": "b0895954-8ebf-44ef-a022-82f986aec22c"
   },
   "outputs": [
    {
     "data": {
      "text/plain": [
       "[<matplotlib.lines.Line2D at 0x1f0cd7da048>]"
      ]
     },
     "execution_count": 41,
     "metadata": {},
     "output_type": "execute_result"
    },
    {
     "data": {
      "image/png": "[encoded data removed]",
      "text/plain": [
       "<Figure size 432x288 with 1 Axes>"
      ]
     },
     "metadata": {
      "needs_background": "light"
     },
     "output_type": "display_data"
    }
   ],
   "source": [
    "from sklearn.decomposition import PCA\n",
    "\n",
    "tot_expl_var = []\n",
    "for i in range(1, 200):\n",
    "    tot_expl_var.append(sum(PCA(n_components=i).fit(x).explained_variance_ratio_))\n",
    "    \n",
    "plt.plot(tot_expl_var)"
   ]
  },
  {
   "cell_type": "markdown",
   "metadata": {
    "colab_type": "text",
    "id": "-eFN30huBjiW"
   },
   "source": [
    "## Basic SVM Algorithm(s)\n",
    "\n",
    "Based on SKLearn Docs: https://scikit-learn.org/stable/modules/svm.html\n",
    "\n",
    "Polynomial seems best, all other kernels did well, but not this well. If combined with proper preprocessing, the SVM should be investigated again, I guess. Accuracy seems irritatingly high however, considering that it is just the very basic SVM algorithm that was used here.\n",
    "\n",
    "### Polynominal Kernel w/ 3 df\n"
   ]
  },
  {
   "cell_type": "code",
   "execution_count": 39,
   "metadata": {
    "colab": {
     "base_uri": "https://localhost:8080/",
     "height": 606
    },
    "colab_type": "code",
    "id": "AqKkN5ARD516",
    "outputId": "0a81f098-7771-4d12-fc14-8d3fd2bb2b18"
   },
   "outputs": [
    {
     "name": "stderr",
     "output_type": "stream",
     "text": [
      "C:\\Users\\nikla\\Anaconda3\\lib\\site-packages\\sklearn\\svm\\base.py:196: FutureWarning: The default value of gamma will change from 'auto' to 'scale' in version 0.22 to account better for unscaled features. Set gamma explicitly to 'auto' or 'scale' to avoid this warning.\n",
      "  \"avoid this warning.\", FutureWarning)\n"
     ]
    },
    {
     "name": "stdout",
     "output_type": "stream",
     "text": [
      "[0 0 0 0 0 0 4 4 0 0 0 0 0 0 0 0 0 0 0 0 0 0 0 0 0 0 0 0 5 0 0 0 0 0 0 5 0\n",
      " 0 0 0 0 0 0 0 0 0 0 0 0 0 0 0 0 0 0 0 0 0 1 0 0 0 0 0 0 0 0 0 0 0 0 0 4 0\n",
      " 0 0 0 0 0 0 0 0 0 0 0 0 0 0 0 0 0 0 0 0 0 0 0 0 0 0 1 1 1 1 1 1 1 4 1 1 1\n",
      " 1 7 1 1 1 1 1 1 4 1 1 1 1 1 7 1 4 1 1 1 1 1 1 4 1 1 1 1 1 1 1 1 1 7 1 1 7\n",
      " 1 1 1 1 1 1 1 1 1 1 1 1 7 1 1 1 1 4 1 1 1 1 9 1 1 1 1 1 1 1 1 4 1 1 1 1 1\n",
      " 1 1 1 1 1 9 1 1 1 1 1 1 1 1 1 2 2 2 2 2 2 2 2 2 2 2 2 7 2 2 2 2 2 2 2 2 2\n",
      " 2 2 2 2 2 2 2 2 2 2 2 2 2 2 2 2 2 2 2 2 2 2 2 2 2 2 2 2 2 2 2 2 2 2 2 2 2\n",
      " 2 2 2 2 2 2 2 2 2 2 2 2 2 2 7 2 2 2 2 9 2 2 2 2 2 2 2 2 2 2 2 2 2 2 2 2 2\n",
      " 2 2 2 2 3 7 4 3 3 3 3 3 3 3 3 3 3 4 3 3 3 3 3 3 3 3 3 3 3 3 3 3 3 3 3 3 3\n",
      " 3 3 3 3 3 3 3 3 3 3 7 3 3 3 3 3 3 3 3 3 3 3 3 3 3 3 3 3 3 3 3 3 3 3 3 3 3\n",
      " 3 3 3 3 3 3 2 3 3 3 3 3 3 4 3 3 3 3 3 3 3 3 3 3 3 3 3 3 3 3 4 4 4 4 4 4 4\n",
      " 4 4 4 4 4 4 4 4 4 4 4 4 4 4 4 4 4 4 4 4 4 4 4 4 4 4 4 4 4 4 4 4 4 4 4 4 4\n",
      " 4 4 4 4 4 4 4 4 4 4 4 4 4 4 4 4 4 4 4 4 4 4 4 4 4 4 4 4 4 4 4 4 4 4 4 4 4\n",
      " 4 4 4 4 4 4 4 4 4 4 4 4 4 4 4 4 4 4 4 5 3 5 5 5 5 5 5 5 5 5 5 5 5 5 5 5 5\n",
      " 5 5 3 5 5 5 5 5 5 5 5 2 5 5 5 5 5 5 5 5 5 5 5 3 5 5 5 9 5 5 5 5 5 5 5 5 5\n",
      " 5 5 5 5 5 5 5 5 5 3 5 5 5 5 5 5 5 5 5 5 4 5 5 5 5 5 5 5 5 5 5 5 5 5 5 5 5\n",
      " 5 5 4 5 5 5 5 5 5 6 6 6 6 6 6 6 6 6 6 6 6 6 6 6 6 6 6 6 6 6 6 6 6 6 6 6 6\n",
      " 6 4 6 6 6 6 6 6 6 6 6 6 6 6 6 6 4 6 6 6 6 6 5 5 6 6 6 6 6 6 6 6 6 6 6 6 6\n",
      " 6 6 6 6 6 6 6 6 6 6 6 6 4 6 4 6 6 6 6 6 6 6 6 6 3 6 6 6 6 6 6 6 6 6 7 7 7\n",
      " 7 7 7 7 7 7 7 7 7 7 7 7 7 7 7 7 7 7 7 7 7 7 7 7 7 7 7 7 7 7 7 7 7 7 7 7 7\n",
      " 7 7 7 7 7 7 7 7 7 7 7 7 7 7 7 7 7 9 7 7 7 7 7 7 7 7 7 7 7 7 7 7 7 7 7 7 7\n",
      " 9 9 7 7 7 7 7 7 7 7 7 7 7 7 7 7 7 7 7 7 7 7 7 8 8 8 8 8 8 8 8 8 8 8 8 8 8\n",
      " 8 8 8 8 8 8 8 8 8 8 8 1 8 1 8 8 8 8 8 5 8 8 1 8 8 8 8 8 8 8 8 8 8 8 8 8 1\n",
      " 8 8 8 8 4 8 4 2 8 8 3 8 8 8 8 8 8 8 8 8 8 8 8 0 8 8 8 8 8 8 8 8 8 8 8 8 8\n",
      " 8 8 8 8 8 8 8 8 8 8 8 8 9 9 9 9 9 9 9 9 9 9 9 9 9 9 9 3 9 9 9 5 9 9 9 9 9\n",
      " 9 9 9 9 9 9 9 9 9 9 9 5 9 9 2 9 9 9 9 9 5 9 9 9 9 9 9 9 9 9 9 9 9 9 9 9 9\n",
      " 9 9 9 9 9 9 9 9 9 9 9 9 9 9 9 9 9 9 9 9 9 9 9 9 9 9 9 9 9 2 9 9 9 9 9 9 9\n",
      " 9]\n"
     ]
    },
    {
     "data": {
      "text/plain": [
       "0.937"
      ]
     },
     "execution_count": 39,
     "metadata": {},
     "output_type": "execute_result"
    }
   ],
   "source": [
    "from sklearn import svm\n",
    "from sklearn.metrics import accuracy_score\n",
    "\n",
    "svc = svm.SVC(kernel=\"poly\", degree=3, decision_function_shape=\"ovo\")\n",
    "svc.fit(train_x, train_y)\n",
    "pred_y = svc.predict(test_x)\n",
    "print(pred_y)\n",
    "\n",
    "accuracy_score(test_y, pred_y)"
   ]
  },
  {
   "cell_type": "markdown",
   "metadata": {
    "colab_type": "text",
    "id": "4Mre0ttGELvn"
   },
   "source": [
    "### Linear Kernel\n"
   ]
  },
  {
   "cell_type": "code",
   "execution_count": 40,
   "metadata": {
    "colab": {
     "base_uri": "https://localhost:8080/",
     "height": 550
    },
    "colab_type": "code",
    "id": "xjDVzNNEESbh",
    "outputId": "765ccd11-3d4a-4f42-b87c-a083236917b4"
   },
   "outputs": [
    {
     "name": "stdout",
     "output_type": "stream",
     "text": [
      "[0 0 0 0 0 0 1 1 0 0 0 0 0 0 0 0 0 0 0 0 0 0 0 0 0 0 0 0 0 0 0 0 0 0 0 5 0\n",
      " 0 0 0 0 0 0 0 0 0 0 0 0 0 0 0 0 0 0 0 0 0 1 0 0 0 0 0 0 0 0 0 0 0 0 0 0 0\n",
      " 0 0 0 0 0 0 0 0 0 0 0 0 0 0 0 0 0 0 0 0 0 0 0 0 0 0 1 1 4 1 1 1 1 1 1 1 1\n",
      " 1 1 1 1 1 1 1 1 1 1 1 1 1 1 1 1 1 1 1 1 1 1 1 1 1 1 1 1 1 1 1 1 1 1 1 1 1\n",
      " 1 1 1 1 1 1 1 1 1 1 1 1 1 1 1 1 1 1 1 1 1 1 1 1 1 1 1 1 1 1 1 1 1 1 1 1 1\n",
      " 1 1 1 1 1 1 1 1 1 1 1 1 1 1 1 2 2 2 2 2 2 2 2 2 2 2 2 2 2 2 2 2 2 2 2 2 2\n",
      " 2 2 2 2 2 2 2 2 2 2 2 2 2 2 2 2 2 2 2 2 2 2 2 2 2 2 2 2 2 2 2 2 2 2 2 2 2\n",
      " 2 2 2 2 2 2 2 2 2 2 2 2 2 2 1 2 2 2 2 2 2 2 2 2 2 2 2 2 2 2 2 2 2 2 2 2 2\n",
      " 2 2 2 7 3 3 3 3 3 3 3 3 3 3 3 3 3 3 3 3 3 3 3 3 3 3 3 3 9 3 3 3 3 3 3 3 3\n",
      " 9 3 3 3 3 3 3 3 3 3 3 3 3 3 3 3 3 3 3 3 3 3 3 3 3 3 3 3 3 3 3 3 3 3 3 3 3\n",
      " 3 3 3 3 3 3 2 3 3 3 3 3 3 0 3 3 3 3 3 3 3 3 3 3 3 3 3 3 3 3 4 4 4 4 4 4 4\n",
      " 4 4 4 4 4 1 4 4 4 4 4 4 4 4 4 4 4 4 4 4 4 4 4 4 4 4 4 4 4 4 4 4 1 4 4 4 4\n",
      " 4 4 4 4 4 4 4 1 4 4 4 4 4 1 4 4 4 4 4 4 4 4 4 4 4 4 4 4 4 4 4 4 4 4 4 4 4\n",
      " 4 4 4 4 4 4 4 4 4 4 4 4 4 4 4 4 4 4 4 5 3 5 5 5 5 5 5 5 5 5 5 5 5 5 5 5 5\n",
      " 5 5 3 5 5 5 5 5 5 5 5 5 8 5 5 5 5 5 5 5 5 5 5 1 5 5 5 4 5 5 5 5 5 5 5 5 5\n",
      " 5 5 5 5 5 5 5 5 5 3 5 5 5 5 5 5 5 5 5 5 5 5 5 5 5 5 5 5 5 5 5 5 5 5 5 5 5\n",
      " 5 5 5 5 5 5 5 5 5 6 6 6 6 6 6 6 6 6 6 6 6 6 6 6 6 6 6 6 6 6 6 6 6 6 6 6 6\n",
      " 6 1 6 6 6 6 6 6 6 6 6 6 6 6 6 6 1 6 6 6 6 6 5 6 6 6 6 6 6 6 6 6 6 6 6 6 6\n",
      " 6 6 6 6 6 6 6 6 6 6 6 6 6 6 6 6 6 6 6 6 6 6 6 6 6 6 6 6 6 6 6 6 6 6 7 7 7\n",
      " 7 7 7 7 7 7 7 7 7 7 7 7 7 7 7 7 7 7 7 7 7 7 7 7 7 7 7 7 7 7 7 7 7 7 7 7 7\n",
      " 7 7 7 7 7 7 7 7 7 7 7 7 7 7 7 7 7 7 7 7 7 7 7 7 7 7 7 7 7 7 7 7 7 7 7 7 7\n",
      " 9 7 7 7 7 7 7 7 7 7 7 7 7 7 7 7 7 7 7 7 7 7 7 8 8 8 8 8 8 8 8 8 8 8 8 8 8\n",
      " 8 8 8 8 8 8 8 8 8 8 8 1 8 8 8 8 8 8 8 5 8 8 8 8 8 8 8 8 8 8 8 8 8 8 8 8 8\n",
      " 8 8 8 8 5 8 4 8 8 8 8 8 8 8 8 8 8 8 8 8 8 8 8 0 8 8 8 8 8 8 8 8 8 8 8 8 8\n",
      " 8 8 8 8 8 8 8 8 8 8 8 8 9 9 9 9 9 9 9 9 9 9 9 9 9 9 9 3 9 9 9 3 9 9 9 9 9\n",
      " 9 9 9 9 9 9 9 9 9 9 9 9 9 9 7 9 9 9 9 9 3 9 9 9 9 9 9 9 9 9 9 9 9 9 9 9 9\n",
      " 9 9 9 9 9 9 9 9 9 9 9 9 9 9 9 9 9 9 9 1 9 9 9 9 9 9 9 9 9 9 9 9 9 9 9 9 9\n",
      " 9]\n"
     ]
    },
    {
     "data": {
      "text/plain": [
       "0.964"
      ]
     },
     "execution_count": 40,
     "metadata": {},
     "output_type": "execute_result"
    }
   ],
   "source": [
    "svc = svm.SVC(kernel=\"linear\", decision_function_shape=\"ovo\")\n",
    "svc.fit(train_x, train_y)\n",
    "pred_y = svc.predict(test_x)\n",
    "print(pred_y)\n",
    "\n",
    "accuracy_score(test_y, pred_y)"
   ]
  },
  {
   "cell_type": "code",
   "execution_count": null,
   "metadata": {},
   "outputs": [],
   "source": []
  }
 ],
 "metadata": {
  "colab": {
   "collapsed_sections": [],
   "name": "ML.ipynb",
   "provenance": []
  },
  "kernelspec": {
   "display_name": "Python 3",
   "language": "python",
   "name": "python3"
  },
  "language_info": {
   "codemirror_mode": {
    "name": "ipython",
    "version": 3
   },
   "file_extension": ".py",
   "mimetype": "text/x-python",
   "name": "python",
   "nbconvert_exporter": "python",
   "pygments_lexer": "ipython3",
   "version": "3.7.3"
  }
 },
 "nbformat": 4,
 "nbformat_minor": 1
}
